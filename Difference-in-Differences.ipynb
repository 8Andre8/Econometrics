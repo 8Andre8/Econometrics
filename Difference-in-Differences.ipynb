{
 "cells": [
  {
   "cell_type": "markdown",
   "metadata": {},
   "source": [
    "- В далеком XIX веке в Лондоне была эпидемия холеры\n",
    "- В те времена считалось, что холера передается воздушно-капельным путем\n",
    "- Но один ученый заподозрил, что это не так. Кол-во заболеваний не уменьшалось при соблюдении всех мер предосторожности при такой передаче заболевания\n",
    "- Ученого звали John Snow ([Snow 1855](https://mixtape.scunning.com/references.html#ref-Snow1854))\n",
    "- Разберем его идею к дизайну эксперимента "
   ]
  },
  {
   "cell_type": "markdown",
   "metadata": {},
   "source": [
    "**Нулевая гипотеза: холера передается водоснабжением**"
   ]
  },
  {
   "cell_type": "markdown",
   "metadata": {},
   "source": [
    "- Как бы это проверяли, если бы имели бесконечные ресуры? Опишите идеальный эксперимент."
   ]
  },
  {
   "cell_type": "markdown",
   "metadata": {},
   "source": [
    "Можно было бы провести AB-тест: \n",
    "- Разделить людей на 2 группы (при этом люди в группах должны быть однородны: одинаковое количество женщин/мужчин, стариков/детей и т.д).\n",
    "- Первая группа будет пить воду из загрязненного источника, а вторая из чистого. Это жеска((((\n",
    "- Подсчитать количество заболевших в 2 группах, и если разница окажется стат. значимой, то подтвердится гипотеза о том, что холера передается водоснабжением."
   ]
  },
  {
   "cell_type": "markdown",
   "metadata": {},
   "source": [
    "- Но такого сделать мы, конечно, не можем. Однако у нас есть следующая информация\n",
    "- В 1800-х несколько водоснабжающих компанй обслуживали город. Они все брали воду из Темзы, которая, если верить нашей гипотезе, была зараженной\n",
    "- Но в 1849 компания Lambeth передвинула свои трубу выше по течению, а компании Southwark и Vauxhall Waterworks Company нет\n",
    "- Как бы нам это использовать для проверки нашей гипотезы?"
   ]
  },
  {
   "cell_type": "markdown",
   "metadata": {},
   "source": [
    "Можно использовать потребителей компании Lambeth в качестве контроля (тех, кто пьет чистую воду), а  Southwark и Vauxhall Waterworks в качестве теста (пьют заарженную воду)."
   ]
  },
  {
   "cell_type": "markdown",
   "metadata": {},
   "source": [
    "- Ниже представлена таблица со смертностью в 1849 г. и 1854 г. для потребителей двух разных компаний\n",
    "\n",
    "|Компания\\Год|1849|1854|\n",
    "|---|---|---|\n",
    "|Southwark and Vauxhall|135|147|\n",
    "|Lambeth|85|19|"
   ]
  },
  {
   "cell_type": "markdown",
   "metadata": {},
   "source": [
    "- Пусть $Y$ - это смертность\n",
    "- Пусть $D$ - это влияние чистой воды на смертность от холеры (очевидно, если нулевая гипотеза верна, то это влияние отрицательное)\n",
    "- Пусть $L$ и $SV$ - это фиксированный эффект\\влияние специфичный для каждой из компаний Lambeth и Southwark and Vauxhall, соответственно. Например, у них могут быть разные трубы и\\или системы очистки воды"
   ]
  },
  {
   "cell_type": "markdown",
   "metadata": {},
   "source": [
    "|Компания|Результат|\n",
    "|---|---|\n",
    "|Southwark and Vauxhall|$$Y=SV$$|\n",
    "|Lambeth|$$Y=L+D$$|"
   ]
  },
  {
   "cell_type": "markdown",
   "metadata": {},
   "source": [
    "- Почему мы не можем просто вычесть из результата Lambeth результат Southwark and Vauxhall?"
   ]
  },
  {
   "cell_type": "markdown",
   "metadata": {},
   "source": [
    "Для того чтобы оценить воздествие чистой воды (D) нам бы хотелось чтобы тестовая группа отличалась от контроля только этим воздействием (тогда мы можем оценить эффект именно от этого воздействия). В данном же случае тест отличатеся от контроля еще набором факторов, присущим каждой из компаний. Таким образом, даже если мы и выявим разницу между тестом и контролем, то мы не можем сказать, что конкретно привело к этому эффекту (мб люди стали меньше болеть не потому, что пили чистую воду, а у их компаний были другие системы очистки и т.д.)"
   ]
  },
  {
   "cell_type": "markdown",
   "metadata": {},
   "source": [
    "- Однако, у нас еще есть временные данные\n",
    "- Пусть $T$ - это некий временной эффект"
   ]
  },
  {
   "cell_type": "markdown",
   "metadata": {},
   "source": [
    "|Компания|Время|Результат|\n",
    "|---|---|---|\n",
    "|Lambeth|До|$$Y=L$$|\n",
    "||После|$$Y=L+D+T$$|"
   ]
  },
  {
   "cell_type": "markdown",
   "metadata": {},
   "source": [
    "- Как будет выглядеть эта табличка для Southwark and Vauxhall?\n",
    "- Чему будет равно $D$ на тех данных, что были выше?"
   ]
  },
  {
   "cell_type": "markdown",
   "metadata": {},
   "source": [
    "Таблица для Southwark and Vauxhall:\n",
    "\n",
    "|Компания|Время|Результат|\n",
    "|---|---|---|\n",
    "|Southwark and Vauxhall|До|$$Y=SV$$|\n",
    "||После|$$Y=SV+T$$|\n",
    "\n",
    "$D$: $D = Y - L - T$"
   ]
  },
  {
   "cell_type": "markdown",
   "metadata": {},
   "source": [
    "- То, что вы проделали выше называется `DiD` (difference in differences). Это замечательный метод, который позволяет вам контролировать эффект от эксперимента (`treatment`) на какие-то другие переменные\n",
    "- Он, отнюдь, не ограничивается временным эффектом, но для простоты задания не будет заходить дальше\n",
    "- Давайте немного формул для понимания того, что было вами проделано. \n",
    "    - Вы нашли `D` - эффект, который оказала чистая вода на смертность от холеры. В идеальном мире, мы с вами бы его считали, как $E[Y_{T=1, S=1} - Y_{T=1, S=0}]$, т.е. уровень смертности в один и тот же момент времени ($T=1$) для контрольной ($S=0$) и тестовой ($S=1$) групп. Но, такое не всегда, мягко говоря, возможно.\n",
    "    - Поэтому вам пришлось изхищряться, чтобы вычленить временной эффект, т.е. вы считали:\n",
    "    $$D = (E[Y_{T=1}|S=1] - E[Y_{T=0}|S=1]) - (E[Y_{T=1}|S=0] - E[Y_{T=0}|S=0])$$\n",
    "    - Это, конечно, замечательное число, но значимо ли оно? На этот вопрос нам с вами поможет ответить, в частности, простая линейная регрессия с дамми/бинарными переменными: $\\hat{y} = \\hat{\\beta_0} + \\hat{\\beta_1} \\cdot T + \\hat{\\beta_2} \\cdot S + \\hat{\\beta_3} \\cdot T \\cdot S$\n",
    "    - Если мы с вами посмотрим на $\\beta_0$, то при $T=0, S=0 \\rightarrow \\hat{y} = \\hat{\\beta_0} \\rightarrow E[y|T=0, S=0] = \\hat{\\beta_0}$ \n",
    "    - Хм, а если у нас $T=1, S=0 \\rightarrow \\hat{y} = \\hat{\\beta_0} + \\hat{\\beta_1} \\rightarrow \\hat{\\beta_1} = \\hat{y} - \\hat{\\beta_0} = E[y|T=1, S=0] - E[y|T=0, S=0]$\n",
    "    - А если $T=0, S=1 \\rightarrow \\hat{y} = \\hat{\\beta_0} + \\hat{\\beta_2} \\rightarrow \\hat{\\beta_2} = \\hat{y} - \\hat{\\beta_0} = E[y|T=0, S=1] - E[y|T=0, S=0]$\n",
    "    - А если \n",
    "    $$T=1, S=1 \\rightarrow \\hat{y} = \\hat{\\beta_0} + \\hat{\\beta_1} + \\hat{\\beta_2} +\\hat{\\beta_3} \\rightarrow \\\\\n",
    "    E[y|T=1, S=1] = E[y|T=0, S=0] + (E[y|T=1, S=0] - E[y|T=0, S=0]) + (E[y|T=0, S=1] - E[y|T=0, S=0]) +\\hat{\\beta_3} \\rightarrow \\\\\n",
    "    \\hat{\\beta_3} = (E[y|T=1, S=1] - E[y|T=0, S=1]) - (E[y|T=1, S=0] - E[y|T=0, S=0])$$\n",
    "    - А вот и наш эффект, который мы так хотели посчитать и проверить на стат. значимость. Думаю, что вы уже знаете, как проверять стат. значимость коэффициентов линейной регрессии."
   ]
  },
  {
   "cell_type": "markdown",
   "metadata": {},
   "source": [
    "- Перейдем к чему-то с данными\n",
    "- Надо понять маркетинговый эффект от рекламы на билбордах на увеличение депозитов ($\\text{deposits}$) с мая ($JUL = 0$) по июль ($JUL = 1$)\n",
    "- Всего есть 3 билборда в городе Porto Alegre ($POA = 1$) и никаких наших билбордов в городе Florianopolis ($POA = 0$)\n",
    "- Посчитайте эффект от рекламы и проверьте его на значимость"
   ]
  },
  {
   "cell_type": "code",
   "execution_count": 1,
   "metadata": {},
   "outputs": [],
   "source": [
    "import pandas as pd\n",
    "import numpy as np\n",
    "import statsmodels.formula.api as smf"
   ]
  },
  {
   "cell_type": "code",
   "execution_count": 2,
   "metadata": {},
   "outputs": [
    {
     "data": {
      "text/html": [
       "<div>\n",
       "<style scoped>\n",
       "    .dataframe tbody tr th:only-of-type {\n",
       "        vertical-align: middle;\n",
       "    }\n",
       "\n",
       "    .dataframe tbody tr th {\n",
       "        vertical-align: top;\n",
       "    }\n",
       "\n",
       "    .dataframe thead th {\n",
       "        text-align: right;\n",
       "    }\n",
       "</style>\n",
       "<table border=\"1\" class=\"dataframe\">\n",
       "  <thead>\n",
       "    <tr style=\"text-align: right;\">\n",
       "      <th></th>\n",
       "      <th>deposits</th>\n",
       "      <th>poa</th>\n",
       "      <th>jul</th>\n",
       "    </tr>\n",
       "  </thead>\n",
       "  <tbody>\n",
       "    <tr>\n",
       "      <th>0</th>\n",
       "      <td>42</td>\n",
       "      <td>1</td>\n",
       "      <td>0</td>\n",
       "    </tr>\n",
       "    <tr>\n",
       "      <th>1</th>\n",
       "      <td>0</td>\n",
       "      <td>1</td>\n",
       "      <td>0</td>\n",
       "    </tr>\n",
       "    <tr>\n",
       "      <th>2</th>\n",
       "      <td>52</td>\n",
       "      <td>1</td>\n",
       "      <td>0</td>\n",
       "    </tr>\n",
       "    <tr>\n",
       "      <th>3</th>\n",
       "      <td>119</td>\n",
       "      <td>1</td>\n",
       "      <td>0</td>\n",
       "    </tr>\n",
       "    <tr>\n",
       "      <th>4</th>\n",
       "      <td>21</td>\n",
       "      <td>1</td>\n",
       "      <td>0</td>\n",
       "    </tr>\n",
       "  </tbody>\n",
       "</table>\n",
       "</div>"
      ],
      "text/plain": [
       "   deposits  poa  jul\n",
       "0        42    1    0\n",
       "1         0    1    0\n",
       "2        52    1    0\n",
       "3       119    1    0\n",
       "4        21    1    0"
      ]
     },
     "execution_count": 2,
     "metadata": {},
     "output_type": "execute_result"
    }
   ],
   "source": [
    "data = pd.read_csv(\"HW_001_003.csv\")\n",
    "data.head()"
   ]
  },
  {
   "cell_type": "markdown",
   "metadata": {},
   "source": [
    "Добавим еще 1 переменную, соответствующую одновременному появлению 1 в $POA$ и $JUL$ ($T \\cdot S$ из примера выше) и рассчитаем эффект для нее (это и будет искомый эффект от рекламы):"
   ]
  },
  {
   "cell_type": "code",
   "execution_count": 3,
   "metadata": {},
   "outputs": [
    {
     "data": {
      "text/html": [
       "<div>\n",
       "<style scoped>\n",
       "    .dataframe tbody tr th:only-of-type {\n",
       "        vertical-align: middle;\n",
       "    }\n",
       "\n",
       "    .dataframe tbody tr th {\n",
       "        vertical-align: top;\n",
       "    }\n",
       "\n",
       "    .dataframe thead th {\n",
       "        text-align: right;\n",
       "    }\n",
       "</style>\n",
       "<table border=\"1\" class=\"dataframe\">\n",
       "  <thead>\n",
       "    <tr style=\"text-align: right;\">\n",
       "      <th></th>\n",
       "      <th>deposits</th>\n",
       "      <th>poa</th>\n",
       "      <th>jul</th>\n",
       "      <th>poa_and_jul</th>\n",
       "    </tr>\n",
       "  </thead>\n",
       "  <tbody>\n",
       "    <tr>\n",
       "      <th>0</th>\n",
       "      <td>42</td>\n",
       "      <td>1</td>\n",
       "      <td>0</td>\n",
       "      <td>0</td>\n",
       "    </tr>\n",
       "    <tr>\n",
       "      <th>1</th>\n",
       "      <td>0</td>\n",
       "      <td>1</td>\n",
       "      <td>0</td>\n",
       "      <td>0</td>\n",
       "    </tr>\n",
       "    <tr>\n",
       "      <th>2</th>\n",
       "      <td>52</td>\n",
       "      <td>1</td>\n",
       "      <td>0</td>\n",
       "      <td>0</td>\n",
       "    </tr>\n",
       "    <tr>\n",
       "      <th>3</th>\n",
       "      <td>119</td>\n",
       "      <td>1</td>\n",
       "      <td>0</td>\n",
       "      <td>0</td>\n",
       "    </tr>\n",
       "    <tr>\n",
       "      <th>4</th>\n",
       "      <td>21</td>\n",
       "      <td>1</td>\n",
       "      <td>0</td>\n",
       "      <td>0</td>\n",
       "    </tr>\n",
       "  </tbody>\n",
       "</table>\n",
       "</div>"
      ],
      "text/plain": [
       "   deposits  poa  jul  poa_and_jul\n",
       "0        42    1    0            0\n",
       "1         0    1    0            0\n",
       "2        52    1    0            0\n",
       "3       119    1    0            0\n",
       "4        21    1    0            0"
      ]
     },
     "execution_count": 3,
     "metadata": {},
     "output_type": "execute_result"
    }
   ],
   "source": [
    "data['poa_and_jul'] = data['poa']*data['jul']\n",
    "data.head()"
   ]
  },
  {
   "cell_type": "code",
   "execution_count": 4,
   "metadata": {},
   "outputs": [
    {
     "data": {
      "text/html": [
       "<div>\n",
       "<style scoped>\n",
       "    .dataframe tbody tr th:only-of-type {\n",
       "        vertical-align: middle;\n",
       "    }\n",
       "\n",
       "    .dataframe tbody tr th {\n",
       "        vertical-align: top;\n",
       "    }\n",
       "\n",
       "    .dataframe thead th {\n",
       "        text-align: right;\n",
       "    }\n",
       "</style>\n",
       "<table border=\"1\" class=\"dataframe\">\n",
       "  <thead>\n",
       "    <tr style=\"text-align: right;\">\n",
       "      <th></th>\n",
       "      <th></th>\n",
       "      <th>deposits</th>\n",
       "      <th>poa_and_jul</th>\n",
       "    </tr>\n",
       "    <tr>\n",
       "      <th>poa</th>\n",
       "      <th>jul</th>\n",
       "      <th></th>\n",
       "      <th></th>\n",
       "    </tr>\n",
       "  </thead>\n",
       "  <tbody>\n",
       "    <tr>\n",
       "      <th rowspan=\"2\" valign=\"top\">0</th>\n",
       "      <th>0</th>\n",
       "      <td>171.642308</td>\n",
       "      <td>0.0</td>\n",
       "    </tr>\n",
       "    <tr>\n",
       "      <th>1</th>\n",
       "      <td>206.165500</td>\n",
       "      <td>0.0</td>\n",
       "    </tr>\n",
       "    <tr>\n",
       "      <th rowspan=\"2\" valign=\"top\">1</th>\n",
       "      <th>0</th>\n",
       "      <td>46.016000</td>\n",
       "      <td>0.0</td>\n",
       "    </tr>\n",
       "    <tr>\n",
       "      <th>1</th>\n",
       "      <td>87.063750</td>\n",
       "      <td>1.0</td>\n",
       "    </tr>\n",
       "  </tbody>\n",
       "</table>\n",
       "</div>"
      ],
      "text/plain": [
       "           deposits  poa_and_jul\n",
       "poa jul                         \n",
       "0   0    171.642308          0.0\n",
       "    1    206.165500          0.0\n",
       "1   0     46.016000          0.0\n",
       "    1     87.063750          1.0"
      ]
     },
     "execution_count": 4,
     "metadata": {},
     "output_type": "execute_result"
    }
   ],
   "source": [
    "data.groupby(['poa', 'jul']).mean()"
   ]
  },
  {
   "cell_type": "code",
   "execution_count": 5,
   "metadata": {},
   "outputs": [
    {
     "data": {
      "text/plain": [
       "6.524558000000006"
      ]
     },
     "execution_count": 5,
     "metadata": {},
     "output_type": "execute_result"
    }
   ],
   "source": [
    "effect = (87.063750 - 46.016000) - (206.165500 - 171.642308)\n",
    "effect"
   ]
  },
  {
   "cell_type": "markdown",
   "metadata": {},
   "source": [
    "Видим, что получили положительный эффект - посмотрим стат. значим ли он:"
   ]
  },
  {
   "cell_type": "code",
   "execution_count": 6,
   "metadata": {},
   "outputs": [
    {
     "data": {
      "text/html": [
       "<table class=\"simpletable\">\n",
       "<caption>OLS Regression Results</caption>\n",
       "<tr>\n",
       "  <th>Dep. Variable:</th>        <td>deposits</td>     <th>  R-squared:         </th> <td>   0.313</td> \n",
       "</tr>\n",
       "<tr>\n",
       "  <th>Model:</th>                   <td>OLS</td>       <th>  Adj. R-squared:    </th> <td>   0.312</td> \n",
       "</tr>\n",
       "<tr>\n",
       "  <th>Method:</th>             <td>Least Squares</td>  <th>  F-statistic:       </th> <td>   696.7</td> \n",
       "</tr>\n",
       "<tr>\n",
       "  <th>Date:</th>             <td>Fri, 09 Sep 2022</td> <th>  Prob (F-statistic):</th>  <td>  0.00</td>  \n",
       "</tr>\n",
       "<tr>\n",
       "  <th>Time:</th>                 <td>15:50:28</td>     <th>  Log-Likelihood:    </th> <td> -26973.</td> \n",
       "</tr>\n",
       "<tr>\n",
       "  <th>No. Observations:</th>      <td>  4600</td>      <th>  AIC:               </th> <td>5.395e+04</td>\n",
       "</tr>\n",
       "<tr>\n",
       "  <th>Df Residuals:</th>          <td>  4596</td>      <th>  BIC:               </th> <td>5.398e+04</td>\n",
       "</tr>\n",
       "<tr>\n",
       "  <th>Df Model:</th>              <td>     3</td>      <th>                     </th>     <td> </td>    \n",
       "</tr>\n",
       "<tr>\n",
       "  <th>Covariance Type:</th>      <td>nonrobust</td>    <th>                     </th>     <td> </td>    \n",
       "</tr>\n",
       "</table>\n",
       "<table class=\"simpletable\">\n",
       "<tr>\n",
       "       <td></td>          <th>coef</th>     <th>std err</th>      <th>t</th>      <th>P>|t|</th>  <th>[0.025</th>    <th>0.975]</th>  \n",
       "</tr>\n",
       "<tr>\n",
       "  <th>Intercept</th>   <td>  171.6423</td> <td>    2.363</td> <td>   72.625</td> <td> 0.000</td> <td>  167.009</td> <td>  176.276</td>\n",
       "</tr>\n",
       "<tr>\n",
       "  <th>poa</th>         <td> -125.6263</td> <td>    4.484</td> <td>  -28.015</td> <td> 0.000</td> <td> -134.418</td> <td> -116.835</td>\n",
       "</tr>\n",
       "<tr>\n",
       "  <th>jul</th>         <td>   34.5232</td> <td>    3.036</td> <td>   11.372</td> <td> 0.000</td> <td>   28.571</td> <td>   40.475</td>\n",
       "</tr>\n",
       "<tr>\n",
       "  <th>poa_and_jul</th> <td>    6.5246</td> <td>    5.729</td> <td>    1.139</td> <td> 0.255</td> <td>   -4.706</td> <td>   17.755</td>\n",
       "</tr>\n",
       "</table>\n",
       "<table class=\"simpletable\">\n",
       "<tr>\n",
       "  <th>Omnibus:</th>       <td>184.879</td> <th>  Durbin-Watson:     </th> <td>   1.964</td>\n",
       "</tr>\n",
       "<tr>\n",
       "  <th>Prob(Omnibus):</th> <td> 0.000</td>  <th>  Jarque-Bera (JB):  </th> <td> 257.379</td>\n",
       "</tr>\n",
       "<tr>\n",
       "  <th>Skew:</th>          <td>-0.400</td>  <th>  Prob(JB):          </th> <td>1.29e-56</td>\n",
       "</tr>\n",
       "<tr>\n",
       "  <th>Kurtosis:</th>      <td> 3.838</td>  <th>  Cond. No.          </th> <td>    7.24</td>\n",
       "</tr>\n",
       "</table><br/><br/>Notes:<br/>[1] Standard Errors assume that the covariance matrix of the errors is correctly specified."
      ],
      "text/plain": [
       "<class 'statsmodels.iolib.summary.Summary'>\n",
       "\"\"\"\n",
       "                            OLS Regression Results                            \n",
       "==============================================================================\n",
       "Dep. Variable:               deposits   R-squared:                       0.313\n",
       "Model:                            OLS   Adj. R-squared:                  0.312\n",
       "Method:                 Least Squares   F-statistic:                     696.7\n",
       "Date:                Fri, 09 Sep 2022   Prob (F-statistic):               0.00\n",
       "Time:                        15:50:28   Log-Likelihood:                -26973.\n",
       "No. Observations:                4600   AIC:                         5.395e+04\n",
       "Df Residuals:                    4596   BIC:                         5.398e+04\n",
       "Df Model:                           3                                         \n",
       "Covariance Type:            nonrobust                                         \n",
       "===============================================================================\n",
       "                  coef    std err          t      P>|t|      [0.025      0.975]\n",
       "-------------------------------------------------------------------------------\n",
       "Intercept     171.6423      2.363     72.625      0.000     167.009     176.276\n",
       "poa          -125.6263      4.484    -28.015      0.000    -134.418    -116.835\n",
       "jul            34.5232      3.036     11.372      0.000      28.571      40.475\n",
       "poa_and_jul     6.5246      5.729      1.139      0.255      -4.706      17.755\n",
       "==============================================================================\n",
       "Omnibus:                      184.879   Durbin-Watson:                   1.964\n",
       "Prob(Omnibus):                  0.000   Jarque-Bera (JB):              257.379\n",
       "Skew:                          -0.400   Prob(JB):                     1.29e-56\n",
       "Kurtosis:                       3.838   Cond. No.                         7.24\n",
       "==============================================================================\n",
       "\n",
       "Notes:\n",
       "[1] Standard Errors assume that the covariance matrix of the errors is correctly specified.\n",
       "\"\"\""
      ]
     },
     "execution_count": 6,
     "metadata": {},
     "output_type": "execute_result"
    }
   ],
   "source": [
    "model = smf.ols('deposits ~ poa + jul + poa_and_jul', data=data).fit()\n",
    "model.summary()"
   ]
  },
  {
   "cell_type": "markdown",
   "metadata": {},
   "source": [
    "Видим, что pvalue > $\\alpha=0.05$ => выявленный положительный эффект от рекламы не является стат. значимым."
   ]
  }
 ],
 "metadata": {
  "kernelspec": {
   "display_name": "Python 3",
   "language": "python",
   "name": "python3"
  },
  "language_info": {
   "codemirror_mode": {
    "name": "ipython",
    "version": 3
   },
   "file_extension": ".py",
   "mimetype": "text/x-python",
   "name": "python",
   "nbconvert_exporter": "python",
   "pygments_lexer": "ipython3",
   "version": "3.7.6"
  }
 },
 "nbformat": 4,
 "nbformat_minor": 4
}
